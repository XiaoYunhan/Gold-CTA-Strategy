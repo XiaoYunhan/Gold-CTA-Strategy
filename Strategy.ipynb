{
 "cells": [
  {
   "cell_type": "code",
   "execution_count": null,
   "metadata": {},
   "outputs": [],
   "source": [
    "import numpy as np\n",
    "import talib\n",
    "\n",
    "class Portfolio:\n",
    "    def __init__(self, initial_capital):\n",
    "        self.capital = initial_capital\n",
    "        self.position = 0\n",
    "        self.trade_history = []\n",
    "    \n",
    "    def buy(self, price, amount):\n",
    "        cost = price * amount\n",
    "        if cost <= self.capital:\n",
    "            self.capital -= cost\n",
    "            self.position += amount\n",
    "            self.trade_history.append(('BUY', price, amount))\n",
    "        else:\n",
    "            print(\"Not enough capital to buy.\")\n",
    "    \n",
    "    def sell(self, price, amount):\n",
    "        if amount <= self.position:\n",
    "            self.capital += price * amount\n",
    "            self.position -= amount\n",
    "            self.trade_history.append(('SELL', price, amount))\n",
    "        else:\n",
    "            print(\"Not enough position to sell.\")\n",
    "    \n",
    "    def get_value(self, market_price):\n",
    "        return self.capital + self.position * market_price\n"
   ]
  },
  {
   "cell_type": "code",
   "execution_count": null,
   "metadata": {},
   "outputs": [],
   "source": [
    "class Backtest:\n",
    "    def __init__(self, data, initial_capital):\n",
    "        self.data = data\n",
    "        self.initial_capital = initial_capital\n",
    "        self.portfolio = Portfolio(initial_capital)\n",
    "    \n",
    "    def run_strategy(self, buy_signal, sell_signal):\n",
    "        for i in range(1, len(self.data)):\n",
    "            if buy_signal[i]:\n",
    "                self.portfolio.buy(self.data['price'][i], 1)\n",
    "            elif sell_signal[i]:\n",
    "                self.portfolio.sell(self.data['price'][i], 1)\n",
    "    \n",
    "    def calculate_pnl(self):\n",
    "        final_value = self.portfolio.get_value(self.data['price'].iloc[-1])\n",
    "        pnl = final_value - self.initial_capital\n",
    "        return pnl\n",
    "    \n",
    "    def calculate_sharpe_ratio(self, risk_free_rate=0.01):\n",
    "        daily_returns = self.data['price'].pct_change()\n",
    "        excess_returns = daily_returns - risk_free_rate / 252\n",
    "        sharpe_ratio = np.sqrt(252) * excess_returns.mean() / excess_returns.std()\n",
    "        return sharpe_ratio\n"
   ]
  },
  {
   "cell_type": "code",
   "execution_count": 1,
   "metadata": {},
   "outputs": [],
   "source": [
    "import pandas as pd\n",
    "\n",
    "price_path = \".\\\\data\\\\gold\\\\Prices.csv\"\n",
    "goldPrice = pd.read_csv(price_path)\n",
    "\n",
    "goldPrice = goldPrice[['Date', 'USD']]\n",
    "goldPrice['Date'] = pd.to_datetime(goldPrice['Date'])\n",
    "goldPrice.set_index('Date', inplace=True)\n",
    "goldPrice = goldPrice[(goldPrice.index >= '1980-01-01') & (goldPrice.index <= '2023-12-31')]"
   ]
  },
  {
   "cell_type": "code",
   "execution_count": null,
   "metadata": {},
   "outputs": [],
   "source": [
    "moving_average_short = talib.SMA(goldPrice['price'], timeperiod=40) # 短期移动平均\n",
    "moving_average_long = talib.SMA(goldPrice['price'], timeperiod=100) # 长期移动平均\n",
    "\n",
    "buy_signal = (moving_average_short.shift(1) < moving_average_long.shift(1)) & (moving_average_short > moving_average_long) # 买入信号：短期移动平均线上穿长期移动平均线\n",
    "sell_signal = (moving_average_short.shift(1) > moving_average_long.shift(1)) & (moving_average_short < moving_average_long) # 卖出信号：短期移动平均线下穿长期移动平均线\n",
    "\n",
    "initial_capital = 10000\n",
    "backtest = Backtest(goldPrice, initial_capital)\n",
    "backtest.run_strategy(buy_signal, sell_signal)\n",
    "\n",
    "pnl = backtest.calculate_pnl()\n",
    "sharpe_ratio = backtest.calculate_sharpe_ratio()\n",
    "\n",
    "print(f\"Strategy PnL: {pnl}\")\n",
    "print(f\"Sharpe Ratio: {sharpe_ratio}\")"
   ]
  }
 ],
 "metadata": {
  "kernelspec": {
   "display_name": "Python 3",
   "language": "python",
   "name": "python3"
  },
  "language_info": {
   "codemirror_mode": {
    "name": "ipython",
    "version": 3
   },
   "file_extension": ".py",
   "mimetype": "text/x-python",
   "name": "python",
   "nbconvert_exporter": "python",
   "pygments_lexer": "ipython3",
   "version": "3.10.10"
  }
 },
 "nbformat": 4,
 "nbformat_minor": 2
}
